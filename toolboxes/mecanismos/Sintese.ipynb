{
 "cells": [
  {
   "cell_type": "code",
   "execution_count": 1,
   "metadata": {},
   "outputs": [],
   "source": [
    "import numpy as np \n",
    "import matplotlib.pyplot as plt \n",
    "\n"
   ]
  },
  {
   "cell_type": "code",
   "execution_count": null,
   "metadata": {},
   "outputs": [],
   "source": [
    "# Algoritmo para geração de trajetória de mecanismo arbitrário utilizando evolução diferencial\n",
    "\n",
    "# Gerar mecanismo\n",
    "# Calcular trajetória da barra do acoplador + ângulo\n",
    "# Transladar centro da trajetória para centro do trajetória objetivo\n",
    "# Atribuir a função score como a soma das distâncias ao quadrado\n",
    "# Verificar se score satisfaz o critério de parada\n",
    "# Modificar parâmetros do mecanismo\n",
    "# Loop"
   ]
  },
  {
   "cell_type": "code",
   "execution_count": 2,
   "metadata": {},
   "outputs": [
    {
     "data": {
      "text/plain": [
       "[<matplotlib.lines.Line2D at 0x7f2096e77ba8>]"
      ]
     },
     "execution_count": 2,
     "metadata": {},
     "output_type": "execute_result"
    },
    {
     "data": {
      "image/png": "[encoded data removed]",
      "text/plain": [
       "<Figure size 432x288 with 1 Axes>"
      ]
     },
     "metadata": {},
     "output_type": "display_data"
    }
   ],
   "source": [
    "# Objetivo\n",
    "\n",
    "fig, ax = plt.subplots()\n",
    "\n",
    "x_offset = -20\n",
    "y_offset = 5\n",
    "\n",
    "x = np.linspace(0,40, 20)\n",
    "y = -(0.0625)/6*x**2 \n",
    "\n",
    "path = np.array([x,y])\n",
    "path[0]+= x_offset\n",
    "path[1]+= y_offset\n",
    "\n",
    "ax.set_title('Trajetória Desejada')\n",
    "ax.grid()\n",
    "ax.plot(*path, marker='o')\n"
   ]
  },
  {
   "cell_type": "code",
   "execution_count": null,
   "metadata": {},
   "outputs": [],
   "source": []
  },
  {
   "cell_type": "code",
   "execution_count": 3,
   "metadata": {},
   "outputs": [],
   "source": [
    "class Vector2D():\n",
    "    def __init__(self, x, y):\n",
    "        self.x = x\n",
    "        self.y = y\n",
    "        \n",
    "    def rotate(self, theta):\n",
    "        \"\"\"\n",
    "        theta em radianos\n",
    "        \n",
    "        \"\"\"\n",
    "        T = np.array([[np.cos(theta), -np.sin(theta)],\n",
    "                      [np.sin(theta), np.cos(theta)]])\n",
    "        \n",
    "        return T@np.array([[self.x],[self.y]])\n",
    "    \n",
    "    def __add__(self, other):\n",
    "        return Vector2D( self.x + other.x, self.y + other.y)\n",
    "    \n",
    "class Joint2D(Vector2D):\n",
    "    x_movable = True\n",
    "    y_movable = True\n",
    "    def __init__(self, x, y, axis=None):\n",
    "        super().__init__(x, y)\n",
    "        \n",
    "        self.setConstraint(axis)\n",
    "            \n",
    "    def setConstraint(self, axis=None):\n",
    "        if isinstance(axis, int):\n",
    "            if axis == 0:\n",
    "                self.x_movable = False\n",
    "                self.y_movable = True\n",
    "            elif axis == 1:\n",
    "                self.y_movable = False\n",
    "                self.x_movable = True\n",
    "        if isinstance(axis, str):\n",
    "            if axis == 'both':\n",
    "                self.x_movable = False\n",
    "                self.y_movable = False\n",
    "            elif axis == 'x':\n",
    "                self.x_movable = False\n",
    "                self.y_movable = True\n",
    "            elif axis == 'y':\n",
    "                self_y_movable = False\n",
    "                self.x_movable = True\n",
    "        if isinstance(axis, type(None)):\n",
    "            self.x_movable = True\n",
    "            self.y_movable = True\n",
    "\n",
    "        \n",
    "class Linkage2D():\n",
    "    def __init__(self, obj1, obj2):\n",
    "        if (type(obj1) == Joint2D and type(obj2) == Joint2D):\n",
    "            self.joint_start = obj1\n",
    "            self.joint_end = obj2\n",
    "        \n",
    "    \n",
    "        "
   ]
  },
  {
   "cell_type": "code",
   "execution_count": null,
   "metadata": {},
   "outputs": [],
   "source": []
  },
  {
   "cell_type": "code",
   "execution_count": 4,
   "metadata": {},
   "outputs": [
    {
     "data": {
      "image/png": "[encoded data removed]",
      "text/plain": [
       "<Figure size 432x288 with 1 Axes>"
      ]
     },
     "metadata": {},
     "output_type": "display_data"
    }
   ],
   "source": [
    "\n",
    "    \n",
    "\n",
    "\n",
    "class Mechanism2D():\n",
    "    joints = []\n",
    "    linkages = []\n",
    "    def __init__(self):\n",
    "        pass\n",
    "    \n",
    "    def addPath(self, path):\n",
    "        if path.shape[0] == 2:\n",
    "            self.x_obj = path[0]\n",
    "            self.y_obj = path[1]\n",
    "        elif path.shape[1] == 2:\n",
    "            self.x_obj = path.T[0]\n",
    "            self.y_obj = path.T[1]\n",
    "            \n",
    "    def addLinkage(self, linkObj):\n",
    "        self.linkages.append(linkObj)\n",
    "    \n",
    "    def addJoint(self, jointObj):\n",
    "        self.joints.append(jointObj)\n",
    "        \n",
    "    def showMechanism(self):\n",
    "        \n",
    "        fig, ax = plt.subplots()\n",
    "        if (hasattr(self, 'x_obj') and hasattr(self, 'y_obj')):\n",
    "            ax.plot(self.x_obj, self.y_obj, marker='o', markersize=1, linestyle=' ')\n",
    "        \n",
    "        for joint in self.joints:\n",
    "            ax.plot(joint.x, joint.y, marker='o', color='b')\n",
    "            \n",
    "        for link in self.linkages:\n",
    "            ax.plot([link.joint_start.x, link.joint_end.x], \n",
    "                    [link.joint_start.y, link.joint_end.y], color='b', linewidth=1)\n",
    "        \n",
    "    \n",
    "M = Mechanism2D()\n",
    "\n",
    "\n",
    "o2 = Joint2D(50, -50, axis='both')\n",
    "o4 = Joint2D(20, -60, axis='both')\n",
    "\n",
    "l1 = Linkage2D(o2, o4)\n",
    "\n",
    "M.addJoint(o2)\n",
    "M.addJoint(o4)\n",
    "M.addLinkage(l1)\n",
    "\n",
    "\n",
    "\n",
    "M.addPath(path)\n",
    "\n",
    "\n",
    "\n",
    "\n",
    "M.showMechanism()\n",
    "\n",
    "    \n"
   ]
  },
  {
   "cell_type": "code",
   "execution_count": null,
   "metadata": {},
   "outputs": [],
   "source": []
  },
  {
   "cell_type": "code",
   "execution_count": null,
   "metadata": {},
   "outputs": [],
   "source": []
  },
  {
   "cell_type": "code",
   "execution_count": null,
   "metadata": {},
   "outputs": [],
   "source": []
  },
  {
   "cell_type": "code",
   "execution_count": null,
   "metadata": {},
   "outputs": [],
   "source": []
  },
  {
   "cell_type": "code",
   "execution_count": null,
   "metadata": {},
   "outputs": [],
   "source": [
    "\n",
    "    \n",
    "\n",
    "\n",
    "\n",
    "class Sintese():\n",
    "    \n",
    "    def __init__(self):\n",
    "        pass\n",
    "    def objetive_function(self, f, x, *args, **kwargs):\n",
    "        \"\"\"\n",
    "        minimizar f(x, args, kwargs) \n",
    "        \n",
    "        \"\"\"\n",
    "        print(f,x, args, kwargs)\n",
    "\n",
    "\n",
    "        \n",
    "s = Sintese()\n",
    "s.objetive_function(lambda x: x**2, 1, 4, value = 'teste')\n"
   ]
  }
 ],
 "metadata": {
  "kernelspec": {
   "display_name": "Python 3",
   "language": "python",
   "name": "python3"
  },
  "language_info": {
   "codemirror_mode": {
    "name": "ipython",
    "version": 3
   },
   "file_extension": ".py",
   "mimetype": "text/x-python",
   "name": "python",
   "nbconvert_exporter": "python",
   "pygments_lexer": "ipython3",
   "version": "3.6.5"
  }
 },
 "nbformat": 4,
 "nbformat_minor": 2
}
